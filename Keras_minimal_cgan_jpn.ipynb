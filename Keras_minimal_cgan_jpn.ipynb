{
  "nbformat": 4,
  "nbformat_minor": 0,
  "metadata": {
    "colab": {
      "name": "Keras_minimal_cgan_jpn.ipynb",
      "provenance": [],
      "collapsed_sections": []
    },
    "kernelspec": {
      "name": "python3",
      "display_name": "Python 3"
    },
    "accelerator": "GPU"
  },
  "cells": [
    {
      "cell_type": "markdown",
      "metadata": {
        "id": "XQ3q3rCGu2b5",
        "colab_type": "text"
      },
      "source": [
        "Keras_minimal_cgan_jpn\n",
        "Kerasで記述された最小のDCGANコード\n",
        "\n",
        "Mnistの数字を生成\n",
        "潜在変数(z_dim)100で生成\n",
        "\n",
        "参考コード：GANs in Action Deep Learning with Generative Adversarial\n",
        "Networks / Jakub Langr, Vladimir Bok<br />\n",
        " (邦題：実践GAN 敵対的生成ネットワークによる深層学習、ISBN-10: 4839967717)第4章より\n",
        "https://github.com/GANs-in-Action/gans-in-action/blob/master/chapter-8/Chapter_8_CGAN.ipynb"
      ]
    },
    {
      "cell_type": "code",
      "metadata": {
        "id": "8IdlacUI0WiM",
        "colab_type": "code",
        "colab": {}
      },
      "source": [
        "%matplotlib inline\n",
        "import matplotlib.pyplot as plt\n",
        "import numpy as np\n",
        "from keras.datasets import mnist\n",
        "from keras.layers import (Activation, BatchNormalization, Concatenate, Dense, Embedding, Flatten, Input, Multiply, Reshape)\n",
        "from keras.layers.advanced_activations import LeakyReLU\n",
        "from keras.layers.convolutional import Conv2D, Conv2DTranspose\n",
        "from keras.models import Model, Sequential\n",
        "from keras.optimizers import Adam\n",
        "from tqdm import tqdm"
      ],
      "execution_count": 0,
      "outputs": []
    },
    {
      "cell_type": "code",
      "metadata": {
        "id": "pwMJn6_31qYG",
        "colab_type": "code",
        "colab": {}
      },
      "source": [
        "# パラメータ設定\n",
        "z_dim = 100\n",
        "iterations = 20000\n",
        "batch_size = 256\n",
        "sample_interval = 1000\n",
        "\n",
        "(X_train, y_train), (_, _) = mnist.load_data()\n",
        "X_train = X_train / 127.5 - 1.0\n",
        "X_train = np.expand_dims(X_train, axis=3)\n",
        "img_shape = X_train[0].shape\n",
        "num_classes = len(np.unique(y_train))"
      ],
      "execution_count": 0,
      "outputs": []
    },
    {
      "cell_type": "code",
      "metadata": {
        "id": "HLPokWV32jzF",
        "colab_type": "code",
        "colab": {}
      },
      "source": [
        "def build_generator(z_dim):\n",
        "    model = Sequential()\n",
        "    model.add(Dense(256 * 7 * 7, input_dim=z_dim))\n",
        "    model.add(Reshape((7, 7, 256)))\n",
        "    model.add(Conv2DTranspose(128, kernel_size=3, strides=2, padding='same'))\n",
        "    model.add(BatchNormalization())\n",
        "    model.add(LeakyReLU(alpha=0.01))\n",
        "    model.add(Conv2DTranspose(64, kernel_size=3, strides=1, padding='same'))\n",
        "    model.add(BatchNormalization())\n",
        "    model.add(LeakyReLU(alpha=0.01))\n",
        "    model.add(Conv2DTranspose(1, kernel_size=3, strides=2, padding='same'))\n",
        "    model.add(Activation('tanh'))\n",
        "    return model"
      ],
      "execution_count": 0,
      "outputs": []
    },
    {
      "cell_type": "code",
      "metadata": {
        "id": "BnOJYe5c2wNm",
        "colab_type": "code",
        "colab": {}
      },
      "source": [
        "def build_cgan_generator(z_dim, num_classes=10):\n",
        "    z = Input(shape=(z_dim, ))\n",
        "    label = Input(shape=(1, ), dtype='int32')\n",
        "    label_embedding = Embedding(num_classes, z_dim, input_length=1)(label)\n",
        "    label_embedding = Flatten()(label_embedding)\n",
        "    joined_representation = Multiply()([z, label_embedding])\n",
        "    generator = build_generator(z_dim)\n",
        "    conditioned_img = generator(joined_representation)\n",
        "    return Model([z, label], conditioned_img)"
      ],
      "execution_count": 0,
      "outputs": []
    },
    {
      "cell_type": "code",
      "metadata": {
        "id": "2W5XGj3R2zuu",
        "colab_type": "code",
        "colab": {}
      },
      "source": [
        "def build_discriminator(img_shape):\n",
        "    model = Sequential()\n",
        "    model.add(Conv2D(64, kernel_size=3, strides=2, input_shape=(img_shape[0], img_shape[1], img_shape[2] + 1), padding='same'))\n",
        "    model.add(LeakyReLU(alpha=0.01))\n",
        "    model.add( Conv2D(64, kernel_size=3, strides=2, input_shape=img_shape, padding='same'))\n",
        "    model.add(BatchNormalization())\n",
        "    model.add(LeakyReLU(alpha=0.01))\n",
        "    model.add(Conv2D(128, kernel_size=3, strides=2, input_shape=img_shape, padding='same'))\n",
        "    model.add(BatchNormalization())\n",
        "    model.add(LeakyReLU(alpha=0.01))\n",
        "    model.add(Flatten())\n",
        "    model.add(Dense(1, activation='sigmoid'))\n",
        "    return model"
      ],
      "execution_count": 0,
      "outputs": []
    },
    {
      "cell_type": "code",
      "metadata": {
        "id": "AZFaWOh03YGf",
        "colab_type": "code",
        "colab": {}
      },
      "source": [
        "def build_cgan_discriminator(img_shape, num_classes=10):\n",
        "    img = Input(shape=img_shape)\n",
        "    label = Input(shape=(1, ), dtype='int32')\n",
        "    label_embedding = Embedding(num_classes, np.prod(img_shape), input_length=1)(label)\n",
        "    label_embedding = Flatten()(label_embedding)\n",
        "    label_embedding = Reshape(img_shape)(label_embedding)\n",
        "    concatenated = Concatenate(axis=-1)([img, label_embedding])\n",
        "    discriminator = build_discriminator(img_shape)\n",
        "    classification = discriminator(concatenated)\n",
        "    return Model([img, label], classification)"
      ],
      "execution_count": 0,
      "outputs": []
    },
    {
      "cell_type": "code",
      "metadata": {
        "id": "J07yFWjm3hL-",
        "colab_type": "code",
        "colab": {}
      },
      "source": [
        "def build_cgan(generator, discriminator):\n",
        "    z = Input(shape=(z_dim, ))\n",
        "    label = Input(shape=(1, ))\n",
        "    img = generator([z, label])\n",
        "    classification = discriminator([img, label])\n",
        "    model = Model([z, label], classification)\n",
        "    return model"
      ],
      "execution_count": 0,
      "outputs": []
    },
    {
      "cell_type": "code",
      "metadata": {
        "id": "C8dCb31k3mnW",
        "colab_type": "code",
        "colab": {}
      },
      "source": [
        "# Build and compile the Discriminator\n",
        "discriminator = build_cgan_discriminator(img_shape, num_classes=10)\n",
        "discriminator.compile(loss='binary_crossentropy', optimizer=Adam(), metrics=['accuracy'])\n",
        "\n",
        "# Build the Generator\n",
        "generator = build_cgan_generator(z_dim, num_classes=10)\n",
        "\n",
        "# Keep Discriminator’s parameters constant for Generator training\n",
        "discriminator.trainable = False\n",
        "\n",
        "# Build and compile CGAN model with fixed Discriminator to train the Generator\n",
        "cgan = build_cgan(generator, discriminator)\n",
        "cgan.compile(loss='binary_crossentropy', optimizer=Adam())"
      ],
      "execution_count": 0,
      "outputs": []
    },
    {
      "cell_type": "code",
      "metadata": {
        "id": "IquwDMuT5bt_",
        "colab_type": "code",
        "colab": {}
      },
      "source": [
        "def sample_images(image_grid_rows=2, image_grid_columns=5, label_num=10):\n",
        "    z = np.random.normal(0, 1, (image_grid_rows * image_grid_columns, z_dim))\n",
        "    labels = np.arange(0, label_num).reshape(-1, 1)\n",
        "    gen_imgs = generator.predict([z, labels])\n",
        "    gen_imgs = 0.5 * gen_imgs + 0.5\n",
        "    fig, axs = plt.subplots(image_grid_rows, image_grid_columns, figsize=(10, 4), sharey=True, sharex=True)\n",
        "\n",
        "    cnt = 0\n",
        "    for i in range(image_grid_rows):\n",
        "        for j in range(image_grid_columns):\n",
        "            axs[i, j].imshow(gen_imgs[cnt, :, :, 0], cmap='gray')\n",
        "            axs[i, j].axis('off')\n",
        "            axs[i, j].set_title(\"Digit: %d\" % labels[cnt])\n",
        "            cnt += 1"
      ],
      "execution_count": 0,
      "outputs": []
    },
    {
      "cell_type": "code",
      "metadata": {
        "id": "LwKoiV9F4SQt",
        "colab_type": "code",
        "colab": {}
      },
      "source": [
        "real = np.ones((batch_size, 1))\n",
        "fake = np.zeros((batch_size, 1))\n",
        "\n",
        "for iteration in tqdm(range(iterations)):\n",
        "    # Get a random batch of real images and their labels\n",
        "    idx = np.random.randint(0, X_train.shape[0], batch_size)\n",
        "    imgs, labels = X_train[idx], y_train[idx]\n",
        "\n",
        "    # Generate a batch of fake images\n",
        "    z = np.random.normal(0, 1, (batch_size, z_dim))\n",
        "    gen_imgs = generator.predict([z, labels])\n",
        "\n",
        "    # Train the Discriminator\n",
        "    d_loss_real = discriminator.train_on_batch([imgs, labels], real)\n",
        "    d_loss_fake = discriminator.train_on_batch([gen_imgs, labels], fake)\n",
        "    d_loss = 0.5 * np.add(d_loss_real, d_loss_fake)\n",
        "\n",
        "    # Generate a batch of noise vectors\n",
        "    z = np.random.normal(0, 1, (batch_size, z_dim))\n",
        "\n",
        "    # Get a batch of random labels\n",
        "    labels = np.random.randint(0, num_classes, batch_size).reshape(-1, 1)\n",
        "\n",
        "    # Train the Generator\n",
        "    g_loss = cgan.train_on_batch([z, labels], real)\n",
        "\n",
        "    if (iteration + 1) % sample_interval == 0:\n",
        "        print(\"%d [D loss: %f, acc.: %.2f%%] [G loss: %f]\" % (iteration + 1, d_loss[0], 100 * d_loss[1], g_loss))\n",
        "        sample_images(label_num=num_classes))"
      ],
      "execution_count": 0,
      "outputs": []
    }
  ]
}